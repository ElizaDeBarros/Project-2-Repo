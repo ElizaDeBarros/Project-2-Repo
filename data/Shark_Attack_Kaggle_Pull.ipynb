{
 "cells": [
  {
   "cell_type": "code",
   "execution_count": 1,
   "metadata": {},
   "outputs": [],
   "source": [
    "import zipfile\n",
    "import pandas as pd\n",
    "import os\n",
    "\n",
    "# Name of zip file that will be downloaded.\n",
    "zip_name = \"global-shark-attacks.zip\"\n",
    "# Check if local machine has this zip file already in location of notebook.\n",
    "# If it does not, it downloads it.\n",
    "if not os.path.exists(zip_name):\n",
    "    !kaggle datasets download -d teajay/global-shark-attacks\n",
    "    \n",
    "# Name of folder that csv files will export to.\n",
    "folder_name = \"Resources\"\n",
    "# Check if local machine has this folder created already in location of notebook.\n",
    "# If it does not, it creates it.\n",
    "if not os.path.exists(folder_name):\n",
    "    os.makedirs(folder_name)\n",
    "    \n",
    "path_to_zip_file = 'global-shark-attacks.zip'\n",
    "directory_to_extract_to = folder_name\n",
    "\n",
    "with zipfile.ZipFile(path_to_zip_file, 'r') as zip_ref:\n",
    "    zip_ref.extractall(directory_to_extract_to)"
   ]
  }
 ],
 "metadata": {
  "kernelspec": {
   "display_name": "Python [conda env:PythonData] *",
   "language": "python",
   "name": "conda-env-PythonData-py"
  },
  "language_info": {
   "codemirror_mode": {
    "name": "ipython",
    "version": 3
   },
   "file_extension": ".py",
   "mimetype": "text/x-python",
   "name": "python",
   "nbconvert_exporter": "python",
   "pygments_lexer": "ipython3",
   "version": "3.6.10"
  }
 },
 "nbformat": 4,
 "nbformat_minor": 4
}
